{
 "cells": [
  {
   "cell_type": "markdown",
   "id": "e1ea5fa8-fc09-47f7-8279-7f78c26cf800",
   "metadata": {},
   "source": [
    "1)  Explain the key features of Python that make it a popular choice for programming.\n",
    "=>  Python is a popular programming language due to its simplicity, flexibility, and versatility. Some key features that contribute to its       popularity include\n",
    "I)  Easy to Learn and Read: Python has a clear and straightforward syntax, making it easy to learn and understand, even for beginners.\n",
    "II) Large and Active Community: Python boasts a large and active community of developers who contribute to its growth, provide support, and     share resources.\n",
    "III)Large Standard Library: Python has an extensive collection of libraries and modules for various tasks, such as data analysis, web           development, and more.\n",
    "IV) Cross-Platform: Python can run on multiple operating systems, including Windows, macOS, and Linux.\n",
    "V)  Strong Community Support: Python has a vibrant community that contributes to its growth, maintains libraries, and provides extensive         documentation.\n",
    "    These features collectively make Python a preferred choice for many developers and organizations, fostering a dynamic and growing           ecosystem"
   ]
  },
  {
   "cell_type": "markdown",
   "id": "e80a4317-1576-4430-b39b-356f07531c47",
   "metadata": {},
   "source": [
    "2) Describe the role of predefined keywords in Python and provide examples of how they are used in a program ?\n",
    "=> In Python, predefined keywords are reserved words that have special meanings and are used to perform specific tasks. They are used to        define the structure and logic of a program. Examples of predefined keywords in Python include:\n",
    " - if (used for conditional statements)\n",
    " - for (used for loops)\n",
    " - while (used for loops)\n",
    " - true false (used for loops)\n",
    " - def (used to define functions)\n",
    " - class (used to define classes)\n",
    " - try (used for exception handling)\n",
    " - import (used to import modules)\n",
    "\n",
    " examples"
   ]
  },
  {
   "cell_type": "code",
   "execution_count": 3,
   "id": "fb9c3351-d9f9-42aa-82a1-41a1054c2865",
   "metadata": {},
   "outputs": [
    {
     "name": "stdout",
     "output_type": "stream",
     "text": [
      "x is less than or equal to 10\n"
     ]
    }
   ],
   "source": [
    "#if statement:\n",
    "\n",
    "x = 5\n",
    "if x > 10:\n",
    "    print(\"x is greater than 10\")\n",
    "else:\n",
    "    print(\"x is less than or equal to 10\")"
   ]
  },
  {
   "cell_type": "code",
   "execution_count": 4,
   "id": "09a01e9e-136c-4154-8d0b-d63deb0833da",
   "metadata": {},
   "outputs": [
    {
     "name": "stdout",
     "output_type": "stream",
     "text": [
      "apple\n",
      "banana\n",
      "cherry\n"
     ]
    }
   ],
   "source": [
    "# for loop:\n",
    "\n",
    "fruits = ['apple', 'banana', 'cherry']\n",
    "for fruit in fruits:\n",
    "    print(fruit)"
   ]
  },
  {
   "cell_type": "code",
   "execution_count": 10,
   "id": "16a3d6ca-17b3-4a35-93c0-e03cb1dbb225",
   "metadata": {},
   "outputs": [
    {
     "name": "stdout",
     "output_type": "stream",
     "text": [
      "Hello, John!\n"
     ]
    }
   ],
   "source": [
    "# def function:\n",
    "\n",
    "def greet(name):\n",
    "    print(\"Hello, \" + name + \"!\")\n",
    "greet(\"John\")"
   ]
  },
  {
   "cell_type": "code",
   "execution_count": 18,
   "id": "3acc3f29-9003-4a68-94a7-be2946e6c7b7",
   "metadata": {},
   "outputs": [
    {
     "name": "stdout",
     "output_type": "stream",
     "text": [
      "Buddy says woof!\n"
     ]
    }
   ],
   "source": [
    "# Example of class definition\n",
    "\n",
    "class Dog:\n",
    "    def __init__(self, name):\n",
    "        self.name = name\n",
    "    \n",
    "    def bark(self):\n",
    "        print(f\"{self.name} says woof!\")\n",
    "\n",
    "my_dog = Dog(\"Buddy\")\n",
    "my_dog.bark()"
   ]
  },
  {
   "cell_type": "code",
   "execution_count": 20,
   "id": "bb177ad7-a996-430a-a7a9-9345d6d20e87",
   "metadata": {},
   "outputs": [
    {
     "name": "stdout",
     "output_type": "stream",
     "text": [
      "False\n",
      "True\n"
     ]
    }
   ],
   "source": [
    "# true false\n",
    "\n",
    "x = 10\n",
    "y = 20\n",
    "\n",
    "print(x > y)   # Output: False\n",
    "print(x < y)   # Output: True"
   ]
  },
  {
   "cell_type": "code",
   "execution_count": null,
   "id": "1c78507a-e1ea-462d-901e-9a19ea377c2e",
   "metadata": {},
   "outputs": [],
   "source": [
    "# try-except block:\n",
    "\n",
    "try:\n",
    "    x = 5 / 0\n",
    "except ZeroDivisionError:\n",
    "    print(\"Cannot divide by zero!\")"
   ]
  },
  {
   "cell_type": "markdown",
   "id": "d5b68c52-ea62-44be-a9bd-4669625b3305",
   "metadata": {},
   "source": [
    "These keywords are essential in Python programming, and their proper use is crucial for writing efficient, readable, and maintainable code."
   ]
  },
  {
   "cell_type": "markdown",
   "id": "3909fe46-6798-4c00-a8e6-d24aab6adedb",
   "metadata": {},
   "source": [
    "3) Compare and contrast mutable and immutable objects in Python with examples.\n",
    "=> In Python, objects are classified as either mutable or immutable based on whether their state (i.e., their contents or data) can be          modified after they are created. Understanding the differences between mutable and immutable objects is crucial for effective programming    in Python. Here’s a comparison of mutable and immutable objects along with examples:\n",
    "\n",
    "i) Mutable Objects\n",
    "   Definition: Mutable objects are those whose state can be modified after they are created. This means you can change, add, or remove          elements without creating a new object\n",
    "   \n",
    "   Examples of Mutable Objects: Lists, Dictionaries, Sets, Bytearrays."
   ]
  },
  {
   "cell_type": "code",
   "execution_count": 21,
   "id": "5fa4fbf2-21e5-4419-94bf-85811f78bfce",
   "metadata": {},
   "outputs": [
    {
     "name": "stdout",
     "output_type": "stream",
     "text": [
      "[1, 2, 3]\n",
      "[1, 2, 3, 4]\n",
      "[10, 2, 3, 4]\n"
     ]
    }
   ],
   "source": [
    "# Lists\n",
    "\n",
    "my_list = [1, 2, 3]\n",
    "print(my_list)  \n",
    "\n",
    "my_list.append(4)  \n",
    "print(my_list) \n",
    "\n",
    "my_list[0] = 10 \n",
    "print(my_list)  "
   ]
  },
  {
   "cell_type": "code",
   "execution_count": 22,
   "id": "84a83f90-2d4e-4688-8cb9-e54e7d95ed6a",
   "metadata": {},
   "outputs": [
    {
     "name": "stdout",
     "output_type": "stream",
     "text": [
      "{'a': 1, 'b': 2, 'c': 3}\n"
     ]
    }
   ],
   "source": [
    "# Dictionaries\n",
    "\n",
    "my_dict = {'a': 1, 'b': 2}\n",
    "my_dict['c'] = 3 \n",
    "print(my_dict)  "
   ]
  },
  {
   "cell_type": "code",
   "execution_count": 23,
   "id": "b3041ef3-e080-49a6-9461-0284da6bdedb",
   "metadata": {},
   "outputs": [
    {
     "name": "stdout",
     "output_type": "stream",
     "text": [
      "{1, 2, 3, 4}\n"
     ]
    }
   ],
   "source": [
    "# Sets\n",
    "\n",
    "my_set = {1, 2, 3}\n",
    "my_set.add(4)\n",
    "print(my_set)  "
   ]
  },
  {
   "cell_type": "markdown",
   "id": "6736ea9f-548c-457e-9a8e-30ada29c06db",
   "metadata": {},
   "source": [
    "ii) Immutable Objects\n",
    "Definition: Immutable objects are those whose state cannot be modified after they are created. Any modification to an immutable object results in the creation of a new object.\n",
    "\n",
    "Example Immutable Types: Strings, Tuples, Integers, Floats, Booleans ,Frozensets."
   ]
  },
  {
   "cell_type": "code",
   "execution_count": 25,
   "id": "e0ff9995-93af-4226-8154-d3f922ae2cc7",
   "metadata": {},
   "outputs": [
    {
     "name": "stdout",
     "output_type": "stream",
     "text": [
      "hello\n",
      "hello world\n",
      "hello\n"
     ]
    }
   ],
   "source": [
    "# Strings\n",
    "\n",
    "my_string = \"hello\"\n",
    "print(my_string)  # Output: hello\n",
    "\n",
    "new_string = my_string + \" world\"\n",
    "print(new_string)  # Output: hello world\n",
    "print(my_string)  # Output: hello\n"
   ]
  },
  {
   "cell_type": "code",
   "execution_count": 26,
   "id": "ac93ca7f-593c-47ad-8438-a8ac0ef0cabb",
   "metadata": {},
   "outputs": [
    {
     "name": "stdout",
     "output_type": "stream",
     "text": [
      "(1, 2, 3, 4)\n"
     ]
    }
   ],
   "source": [
    "# Tuples\n",
    "\n",
    "my_tuple = (1, 2, 3)\n",
    "new_tuple = my_tuple + (4,) \n",
    "print(new_tuple)  \n"
   ]
  },
  {
   "cell_type": "code",
   "execution_count": 27,
   "id": "fa2eeee4-39b6-4062-bbab-7bc3d72dfaa9",
   "metadata": {},
   "outputs": [
    {
     "name": "stdout",
     "output_type": "stream",
     "text": [
      "15\n"
     ]
    }
   ],
   "source": [
    "# Integers\n",
    "\n",
    "my_int = 10\n",
    "new_int = my_int + 5\n",
    "print(new_int)"
   ]
  },
  {
   "cell_type": "markdown",
   "id": "6ab970a2-0391-44f6-8763-35510ad7dedb",
   "metadata": {},
   "source": [
    "Mutable objects can be modified in-place, while immutable objects require creating a new object for modifications.\n",
    "Mutable objects are generally more memory-efficient, as they don't require creating new objects for modifications."
   ]
  },
  {
   "cell_type": "markdown",
   "id": "ca3d28c7-f090-4dc2-bbeb-e4c3ec5c7eb6",
   "metadata": {},
   "source": [
    "3) Discuss the different types of operators in Python and provide examples of how they are used\n",
    "=> Python has several types of operators that perform various operations. Here are the main categories and examples:\n",
    "\n",
    "i) Arithmetic Operators"
   ]
  },
  {
   "cell_type": "code",
   "execution_count": 1,
   "id": "67d4c6b1-df67-4b8f-ba8e-e6ebcde7c063",
   "metadata": {},
   "outputs": [
    {
     "name": "stdout",
     "output_type": "stream",
     "text": [
      "8\n"
     ]
    }
   ],
   "source": [
    "# Addition (+):\n",
    "a = 5\n",
    "b = 3\n",
    "print(a + b)  # Output: 8"
   ]
  },
  {
   "cell_type": "code",
   "execution_count": 2,
   "id": "ce4b93bb-f161-4305-b77b-b18502671cbe",
   "metadata": {},
   "outputs": [
    {
     "name": "stdout",
     "output_type": "stream",
     "text": [
      "2\n"
     ]
    }
   ],
   "source": [
    "# Subtraction (-):\n",
    "print(a - b)  # Output: 2"
   ]
  },
  {
   "cell_type": "code",
   "execution_count": 3,
   "id": "a935367a-d68a-4233-9b7f-639d904f2dbd",
   "metadata": {},
   "outputs": [
    {
     "name": "stdout",
     "output_type": "stream",
     "text": [
      "15\n"
     ]
    }
   ],
   "source": [
    "# Multiplication (*):\n",
    "print(a * b)  # Output: 15"
   ]
  },
  {
   "cell_type": "code",
   "execution_count": 4,
   "id": "17b91d62-56ef-493e-8edb-1087f3068ce1",
   "metadata": {},
   "outputs": [
    {
     "name": "stdout",
     "output_type": "stream",
     "text": [
      "1.6666666666666667\n"
     ]
    }
   ],
   "source": [
    "# Division (/):\n",
    "print(a / b)  # Output: 1.6666666666666667"
   ]
  },
  {
   "cell_type": "code",
   "execution_count": 5,
   "id": "15388682-9ec0-4762-9a7d-1ed5a5fda18e",
   "metadata": {},
   "outputs": [
    {
     "name": "stdout",
     "output_type": "stream",
     "text": [
      "2\n"
     ]
    }
   ],
   "source": [
    "# Modulus (%):\n",
    "print(a % b)  # Output: 2"
   ]
  },
  {
   "cell_type": "code",
   "execution_count": 6,
   "id": "3cecd00e-2663-41c5-88a8-15bac6c347fc",
   "metadata": {},
   "outputs": [
    {
     "name": "stdout",
     "output_type": "stream",
     "text": [
      "125\n"
     ]
    }
   ],
   "source": [
    "# Exponentiation (**):\n",
    "print(a ** b)  # Output: 125"
   ]
  },
  {
   "cell_type": "code",
   "execution_count": 7,
   "id": "36a44e2d-31f5-498d-821c-faa6e7c61620",
   "metadata": {},
   "outputs": [
    {
     "name": "stdout",
     "output_type": "stream",
     "text": [
      "1\n"
     ]
    }
   ],
   "source": [
    "# Floor Division (//):\n",
    "print(a // b)  # Output: 1"
   ]
  },
  {
   "cell_type": "markdown",
   "id": "af608b34-3927-4d51-ba03-b96f39178aef",
   "metadata": {},
   "source": [
    "ii) Comparison Operators: These operators compare two values and return a boolean result (True or False)."
   ]
  },
  {
   "cell_type": "code",
   "execution_count": 10,
   "id": "b204b51d-cf91-4102-99bf-9dd9a05d631c",
   "metadata": {},
   "outputs": [
    {
     "name": "stdout",
     "output_type": "stream",
     "text": [
      "False\n"
     ]
    }
   ],
   "source": [
    "# Equal (==):\n",
    "print(a == b)  # Output: False"
   ]
  },
  {
   "cell_type": "code",
   "execution_count": 11,
   "id": "1c5a80b5-9365-4f4a-8ed8-4cf13fd37a74",
   "metadata": {},
   "outputs": [
    {
     "name": "stdout",
     "output_type": "stream",
     "text": [
      "True\n"
     ]
    }
   ],
   "source": [
    "# Not Equal (!=):\n",
    "print(a != b)  # Output: True"
   ]
  },
  {
   "cell_type": "code",
   "execution_count": 12,
   "id": "b3203eaf-25f4-4cdf-96bc-168e096fe3a7",
   "metadata": {},
   "outputs": [
    {
     "name": "stdout",
     "output_type": "stream",
     "text": [
      "True\n"
     ]
    }
   ],
   "source": [
    "# Greater Than (>):\n",
    "print(a > b)  # Output: True"
   ]
  },
  {
   "cell_type": "code",
   "execution_count": 13,
   "id": "4be4d742-b955-4828-aab3-39e778d0edd4",
   "metadata": {},
   "outputs": [
    {
     "name": "stdout",
     "output_type": "stream",
     "text": [
      "False\n"
     ]
    }
   ],
   "source": [
    "# Less Than (<):\n",
    "print(a < b)  # Output: False"
   ]
  },
  {
   "cell_type": "code",
   "execution_count": 14,
   "id": "d63e4c3c-a2d9-4d51-a443-d2e4e3543c91",
   "metadata": {},
   "outputs": [
    {
     "name": "stdout",
     "output_type": "stream",
     "text": [
      "True\n"
     ]
    }
   ],
   "source": [
    "# Greater Than or Equal To (>=):\n",
    "print(a >= b)  # Output: True"
   ]
  },
  {
   "cell_type": "code",
   "execution_count": 15,
   "id": "e544e424-2d8b-4505-a0c3-537908ff14d5",
   "metadata": {},
   "outputs": [
    {
     "name": "stdout",
     "output_type": "stream",
     "text": [
      "False\n"
     ]
    }
   ],
   "source": [
    "# Less Than or Equal To (<=):\n",
    "print(a <= b)  # Output: False"
   ]
  },
  {
   "cell_type": "markdown",
   "id": "4d19b3b0-cfbb-4263-83dd-601bca7b8b99",
   "metadata": {},
   "source": [
    "iii) Assignment Operators : These operators are used to assign values to variables."
   ]
  },
  {
   "cell_type": "code",
   "execution_count": 16,
   "id": "918e1350-40b9-48d0-8a70-27541ef05368",
   "metadata": {},
   "outputs": [],
   "source": [
    "# Simple Assignment (=):\n",
    "c = 10"
   ]
  },
  {
   "cell_type": "code",
   "execution_count": 17,
   "id": "f1f8d055-bc9e-4f65-805d-873f591fc6dd",
   "metadata": {},
   "outputs": [
    {
     "name": "stdout",
     "output_type": "stream",
     "text": [
      "15\n"
     ]
    }
   ],
   "source": [
    "# Add and Assign (+=):\n",
    "c += 5  \n",
    "print(c)  # Output: 15"
   ]
  },
  {
   "cell_type": "code",
   "execution_count": 18,
   "id": "eeb2d5ea-5267-4365-971d-18134f933c4a",
   "metadata": {},
   "outputs": [
    {
     "name": "stdout",
     "output_type": "stream",
     "text": [
      "12\n"
     ]
    }
   ],
   "source": [
    "# Subtract and Assign (-=):\n",
    "c -= 3 \n",
    "print(c)  # Output: 12"
   ]
  },
  {
   "cell_type": "code",
   "execution_count": 19,
   "id": "e7c72a6b-ee2e-4630-8030-a80c63da1c16",
   "metadata": {},
   "outputs": [
    {
     "name": "stdout",
     "output_type": "stream",
     "text": [
      "24\n"
     ]
    }
   ],
   "source": [
    "# Multiply and Assign (*=):\n",
    "c *= 2  \n",
    "print(c)  # Output: 24"
   ]
  },
  {
   "cell_type": "code",
   "execution_count": 20,
   "id": "4e8f0189-199f-4481-b77b-4d343cf71e0b",
   "metadata": {},
   "outputs": [
    {
     "name": "stdout",
     "output_type": "stream",
     "text": [
      "6.0\n"
     ]
    }
   ],
   "source": [
    "# Divide and Assign (/=):\n",
    "c /= 4  \n",
    "print(c)  # Output: 6.0"
   ]
  },
  {
   "cell_type": "markdown",
   "id": "5d4e5207-569d-4cfa-a2e7-39fbc63fa3aa",
   "metadata": {},
   "source": [
    "iv) Logical Operators : Logical operators are used to combine conditional statements."
   ]
  },
  {
   "cell_type": "code",
   "execution_count": 21,
   "id": "972e8a3c-b8bc-42ec-858c-f2eef4986d39",
   "metadata": {},
   "outputs": [
    {
     "name": "stdout",
     "output_type": "stream",
     "text": [
      "True\n"
     ]
    }
   ],
   "source": [
    "# AND (and):\n",
    "print(a > 2 and b < 5)  # Output: True"
   ]
  },
  {
   "cell_type": "code",
   "execution_count": 22,
   "id": "ec788479-2bae-4784-a23b-9bf03a6fea01",
   "metadata": {},
   "outputs": [
    {
     "name": "stdout",
     "output_type": "stream",
     "text": [
      "True\n"
     ]
    }
   ],
   "source": [
    "# OR (or):\n",
    "print(a > 2 or b > 5)  # Output: True"
   ]
  },
  {
   "cell_type": "code",
   "execution_count": 23,
   "id": "5097ad33-c10c-4151-972a-f3ab6280c0fb",
   "metadata": {},
   "outputs": [
    {
     "name": "stdout",
     "output_type": "stream",
     "text": [
      "False\n"
     ]
    }
   ],
   "source": [
    "# NOT (not):\n",
    "print(not(a > 2 and b < 5))  # Output: False"
   ]
  },
  {
   "cell_type": "markdown",
   "id": "e67ec9b1-5c18-42c9-b2e7-67d307e68421",
   "metadata": {},
   "source": [
    "v) Bitwise Operators : Bitwise operators are used to compare (binary) numbers."
   ]
  },
  {
   "cell_type": "code",
   "execution_count": 24,
   "id": "e4be883e-d164-4eb0-adf8-09e438a494ad",
   "metadata": {},
   "outputs": [
    {
     "name": "stdout",
     "output_type": "stream",
     "text": [
      "1\n"
     ]
    }
   ],
   "source": [
    "# AND (&):\n",
    "print(a & b)  # Output: 1"
   ]
  },
  {
   "cell_type": "code",
   "execution_count": 25,
   "id": "909af88d-2278-4640-8891-500124bb0aaa",
   "metadata": {},
   "outputs": [
    {
     "name": "stdout",
     "output_type": "stream",
     "text": [
      "7\n"
     ]
    }
   ],
   "source": [
    "# OR (|):\n",
    "print(a | b)  # Output: 7"
   ]
  },
  {
   "cell_type": "code",
   "execution_count": 26,
   "id": "8ca57f32-703e-4aa3-b074-97097337f92b",
   "metadata": {},
   "outputs": [
    {
     "name": "stdout",
     "output_type": "stream",
     "text": [
      "6\n"
     ]
    }
   ],
   "source": [
    "# XOR (^):\n",
    "print(a ^ b)  # Output: 6"
   ]
  },
  {
   "cell_type": "code",
   "execution_count": 28,
   "id": "ac6cb91e-a7b1-455d-92d7-335c07594406",
   "metadata": {},
   "outputs": [
    {
     "name": "stdout",
     "output_type": "stream",
     "text": [
      "-6\n"
     ]
    }
   ],
   "source": [
    "# NOT (~):\n",
    "print(~a)  # Output: -6"
   ]
  },
  {
   "cell_type": "code",
   "execution_count": 29,
   "id": "0e1fad85-8107-4495-84fe-5a67e96581b3",
   "metadata": {},
   "outputs": [
    {
     "name": "stdout",
     "output_type": "stream",
     "text": [
      "10\n"
     ]
    }
   ],
   "source": [
    "# Left Shift (<<):\n",
    "print(a << 1)  # Output: 10"
   ]
  },
  {
   "cell_type": "code",
   "execution_count": 30,
   "id": "3de777c2-8756-4d6b-a71f-309f3c035d07",
   "metadata": {},
   "outputs": [
    {
     "name": "stdout",
     "output_type": "stream",
     "text": [
      "2\n"
     ]
    }
   ],
   "source": [
    "# Right Shift (>>):\n",
    "print(a >> 1)  # Output: 2"
   ]
  },
  {
   "cell_type": "markdown",
   "id": "43211c70-d24f-459d-b2be-b980aa4c8525",
   "metadata": {},
   "source": [
    "v) Special Operators"
   ]
  },
  {
   "cell_type": "code",
   "execution_count": 32,
   "id": "3d02cd01-d963-4687-9e2c-5ed71a24759d",
   "metadata": {},
   "outputs": [
    {
     "name": "stdout",
     "output_type": "stream",
     "text": [
      "Hello World\n"
     ]
    }
   ],
   "source": [
    "# String Concatenation:\n",
    "str1 = \"Hello\"\n",
    "str2 = \"World\"\n",
    "result = str1 + \" \" + str2 \n",
    "print (result)"
   ]
  },
  {
   "cell_type": "markdown",
   "id": "2a687a68-3581-41d8-864c-cb6d4a6335b9",
   "metadata": {},
   "source": [
    "By understanding and using these operators, you can perform a wide range of operations in Python efficiently and effectively."
   ]
  },
  {
   "cell_type": "markdown",
   "id": "d4cead53-a920-4a3d-a4aa-eb64eca4e036",
   "metadata": {},
   "source": [
    "5) Explain the concept of type casting in Python with examples.\n",
    "=> Type casting, also known as type conversion, is the process of converting a variable from one data type to another. In Python, this can      be done either implicitly or explicitly.:\n",
    "\n",
    "i) Implicit Type Casting\n",
    "   In implicit type casting, Python automatically converts one data type to another without any user intervention. This usually happens when    performing operations that involve mixed data types.\n"
   ]
  },
  {
   "cell_type": "code",
   "execution_count": 33,
   "id": "6bf9e913-1484-436c-a218-c0a7fb8b5228",
   "metadata": {},
   "outputs": [
    {
     "name": "stdout",
     "output_type": "stream",
     "text": [
      "7.5\n",
      "<class 'float'>\n"
     ]
    }
   ],
   "source": [
    "# Example:\n",
    "a = 5\n",
    "b = 2.5\n",
    "c = a + b  \n",
    "print(c) \n",
    "print(type(c)) \n",
    "\n",
    "#In this example, the integer a is implicitly converted to a float when added to the float b.\n"
   ]
  },
  {
   "cell_type": "markdown",
   "id": "9b56dac5-4691-4e26-b91d-f51ea0f9c832",
   "metadata": {},
   "source": [
    "ii) Explicit Type Casting\n",
    "    Explicit type casting requires the programmer to manually convert one data type to another using predefined functions like int(),           float(), str(), etc."
   ]
  },
  {
   "cell_type": "code",
   "execution_count": 34,
   "id": "49620ec4-f2e6-4ea2-95e2-cd01359f9550",
   "metadata": {},
   "outputs": [
    {
     "name": "stdout",
     "output_type": "stream",
     "text": [
      "3\n"
     ]
    }
   ],
   "source": [
    "# Example\n",
    "int_val = 3\n",
    "str_val = str(int_val)\n",
    "print(str_val) "
   ]
  },
  {
   "cell_type": "code",
   "execution_count": 36,
   "id": "c502ad2e-0704-4ea1-98b2-845a9267e6ab",
   "metadata": {},
   "outputs": [
    {
     "name": "stdout",
     "output_type": "stream",
     "text": [
      "5.0\n",
      "<class 'float'>\n"
     ]
    }
   ],
   "source": [
    "#Integer to Float:\n",
    "a = 5\n",
    "b = float(a)\n",
    "print(b)  \n",
    "print(type(b))  "
   ]
  },
  {
   "cell_type": "code",
   "execution_count": 37,
   "id": "d77762da-4cb7-4c7d-8a50-0d04f6b1f708",
   "metadata": {},
   "outputs": [
    {
     "name": "stdout",
     "output_type": "stream",
     "text": [
      "5\n",
      "<class 'int'>\n"
     ]
    }
   ],
   "source": [
    "# Float to Integer:\n",
    "a = 5.9\n",
    "b = int(a)\n",
    "print(b)  \n",
    "print(type(b))  "
   ]
  },
  {
   "cell_type": "code",
   "execution_count": 38,
   "id": "d4d40d17-5ae2-4207-8829-276adc8ea902",
   "metadata": {},
   "outputs": [
    {
     "name": "stdout",
     "output_type": "stream",
     "text": [
      "5\n",
      "<class 'str'>\n"
     ]
    }
   ],
   "source": [
    "# Integer to String:\n",
    "a = 5\n",
    "b = str(a)\n",
    "print(b)  \n",
    "print(type(b))  "
   ]
  },
  {
   "cell_type": "code",
   "execution_count": 39,
   "id": "671865fb-a0c6-41fc-898e-d1d328bb9adb",
   "metadata": {},
   "outputs": [
    {
     "name": "stdout",
     "output_type": "stream",
     "text": [
      "5.9\n",
      "<class 'float'>\n"
     ]
    }
   ],
   "source": [
    "# String to Float:\n",
    "a = \"5.9\"\n",
    "b = float(a)\n",
    "print(b)  \n",
    "print(type(b)) "
   ]
  },
  {
   "cell_type": "code",
   "execution_count": 40,
   "id": "de1f38ac-f934-4cf9-b6d1-43af497e7176",
   "metadata": {},
   "outputs": [
    {
     "name": "stdout",
     "output_type": "stream",
     "text": [
      "5\n",
      "<class 'int'>\n"
     ]
    }
   ],
   "source": [
    "# String to Integer:\n",
    "a = \"5\"\n",
    "b = int(a)\n",
    "print(b) \n",
    "print(type(b)) "
   ]
  },
  {
   "cell_type": "code",
   "execution_count": 41,
   "id": "7b0def3b-0d8d-495c-a8af-c484e6f848f7",
   "metadata": {},
   "outputs": [
    {
     "name": "stdout",
     "output_type": "stream",
     "text": [
      "True\n"
     ]
    }
   ],
   "source": [
    "# Boolean to String:\n",
    "x = True\n",
    "y = str(x)\n",
    "print(y)  "
   ]
  },
  {
   "cell_type": "markdown",
   "id": "48971df6-ca40-481b-8dae-3413017ce1a2",
   "metadata": {},
   "source": [
    "Type casting is essential in Python to ensure that variables are in the correct format for the operations you want to perform, thus preventing type errors and ensuring the accuracy of your computations."
   ]
  },
  {
   "cell_type": "markdown",
   "id": "01424b16-69cf-4f06-a1a4-a1e7acdcb446",
   "metadata": {},
   "source": [
    "6) How do conditional statements work in Python? Illustrate with examples.\n",
    "=> Conditional statements in Python are used to execute different blocks of code based on certain conditions. They are also known as            decision-making statements.\n",
    "\n",
    "   Here's a general syntax:\n",
    "\n",
    "   if condition:\n",
    "     # code to execute if condition is true\n",
    "   elif another_condition:\n",
    "     # code to execute if another_condition is true\n",
    "   else:\n",
    "     # code to execute if all conditions are false\n",
    "     \n",
    "Examples:     "
   ]
  },
  {
   "cell_type": "code",
   "execution_count": 43,
   "id": "d3c7aa64-e7c5-4c07-b18f-5a8760614e2f",
   "metadata": {},
   "outputs": [
    {
     "name": "stdout",
     "output_type": "stream",
     "text": [
      "x is greater than 5\n"
     ]
    }
   ],
   "source": [
    "# if Statement\n",
    "x = 10\n",
    "if x > 5:\n",
    "    print(\"x is greater than 5\")"
   ]
  },
  {
   "cell_type": "code",
   "execution_count": 44,
   "id": "781da6c1-07b7-407a-8851-a5c28017adf6",
   "metadata": {},
   "outputs": [
    {
     "name": "stdout",
     "output_type": "stream",
     "text": [
      "x is not greater than 5\n"
     ]
    }
   ],
   "source": [
    "# if-else Statement\n",
    "x = 3\n",
    "if x > 5:\n",
    "    print(\"x is greater than 5\")\n",
    "else:\n",
    "    print(\"x is not greater than 5\")"
   ]
  },
  {
   "cell_type": "code",
   "execution_count": 45,
   "id": "1a93d301-7ec3-4ec0-b812-d32f6d634f39",
   "metadata": {},
   "outputs": [
    {
     "name": "stdout",
     "output_type": "stream",
     "text": [
      "x is greater than 5 but less than or equal to 10\n"
     ]
    }
   ],
   "source": [
    "# if-elif-else Statement\n",
    "x = 7\n",
    "if x > 10:\n",
    "    print(\"x is greater than 10\")\n",
    "elif x > 5:\n",
    "    print(\"x is greater than 5 but less than or equal to 10\")\n",
    "else:\n",
    "    print(\"x is 5 or less\")"
   ]
  },
  {
   "cell_type": "code",
   "execution_count": 46,
   "id": "ae8523a5-0cec-4bbf-854f-0676527a747f",
   "metadata": {},
   "outputs": [
    {
     "name": "stdout",
     "output_type": "stream",
     "text": [
      "x is greater than 5\n",
      "x is also even\n"
     ]
    }
   ],
   "source": [
    "# Nested if Statements\n",
    "x = 8\n",
    "if x > 5:\n",
    "    print(\"x is greater than 5\")\n",
    "    if x % 2 == 0:\n",
    "        print(\"x is also even\")"
   ]
  },
  {
   "cell_type": "markdown",
   "id": "a41837ef-6b20-44c1-b45a-2e0ade70635b",
   "metadata": {},
   "source": [
    "These examples demonstrate how conditional statements work in Python, allowing you to control the flow of your program based on conditions."
   ]
  },
  {
   "cell_type": "markdown",
   "id": "5ad17a92-a5cc-42e0-aec7-f577026d63df",
   "metadata": {},
   "source": [
    "7) Describe the different types of loops in Python and their use cases with examples.\n",
    "=> In Python, loops are used to execute a block of code repeatedly until a certain condition is met. There are two main types of loops in      Python: for loops and while loops. Each type has its own use cases and advantages.\n",
    "\n",
    "  i) for Loop :\n",
    "  The for loop is used for iterating over a sequence (such as a list, tuple, dictionary, set, or string). It is particularly useful when you   know the number of iterations in advance."
   ]
  },
  {
   "cell_type": "code",
   "execution_count": 47,
   "id": "ef480d8c-92b7-4b6a-969e-84fd2f4f426a",
   "metadata": {},
   "outputs": [
    {
     "name": "stdout",
     "output_type": "stream",
     "text": [
      "apple\n",
      "banana\n",
      "cherry\n"
     ]
    }
   ],
   "source": [
    "# Example\n",
    "# Iterating over a list\n",
    "fruits = [\"apple\", \"banana\", \"cherry\"]\n",
    "for fruit in fruits:\n",
    "    print(fruit)\n",
    "    \n",
    "# Use Cases:\n",
    "# Iterating over elements in a list, tuple, or set.\n",
    "# Iterating over characters in a string.\n",
    "# Iterating over keys or values in a dictionary."
   ]
  },
  {
   "cell_type": "markdown",
   "id": "e1d1435d-b159-4c03-b46e-1957a00490df",
   "metadata": {},
   "source": [
    "ii) while Loop :\n",
    "The while loop is used to execute a block of code as long as a specified condition is true. It is useful when the number of iterations is not known in advance and depends on a condition."
   ]
  },
  {
   "cell_type": "code",
   "execution_count": 48,
   "id": "26ee2261-e2c1-4d88-8e1d-534a39ba461b",
   "metadata": {},
   "outputs": [
    {
     "name": "stdout",
     "output_type": "stream",
     "text": [
      "1\n",
      "2\n",
      "3\n",
      "4\n",
      "5\n"
     ]
    }
   ],
   "source": [
    "# Printing numbers from 1 to 5\n",
    "i = 1\n",
    "while i <= 5:\n",
    "    print(i)\n",
    "    i += 1\n",
    "    \n",
    "# Use Cases:\n",
    "# Repeating a block of code until a condition is met.\n",
    "# Implementing infinite loops (with a break condition inside).\n",
    "# Waiting for user input or external events."
   ]
  },
  {
   "cell_type": "markdown",
   "id": "8836b332-16d1-4e45-a59f-e0b21a399a18",
   "metadata": {},
   "source": [
    "iii) Nested Loops :\n",
    "You can nest loops inside each other. This is useful for working with multi-dimensional data structures, such as lists of lists"
   ]
  },
  {
   "cell_type": "code",
   "execution_count": 49,
   "id": "82490ecb-c534-453c-83fd-4e0dd7fb747d",
   "metadata": {},
   "outputs": [
    {
     "name": "stdout",
     "output_type": "stream",
     "text": [
      "1 2 3 \n",
      "4 5 6 \n",
      "7 8 9 \n"
     ]
    }
   ],
   "source": [
    "# Printing a 2D list\n",
    "matrix = [\n",
    "    [1, 2, 3],\n",
    "    [4, 5, 6],\n",
    "    [7, 8, 9]\n",
    "]\n",
    "for row in matrix:\n",
    "    for element in row:\n",
    "        print(element, end=\" \")\n",
    "    print()\n",
    "\n",
    "# Use Cases:\n",
    "# Iterating over multi-dimensional arrays or matrices.\n",
    "# Performing complex nested operations."
   ]
  },
  {
   "cell_type": "markdown",
   "id": "77fd2f5d-2ceb-40f6-b58e-5132adc802b6",
   "metadata": {},
   "source": [
    "iv) Break and Continue Statements :\n",
    "    - break statement: exits the loop prematurely.\n",
    "    - continue statement: skips to the next iteration."
   ]
  },
  {
   "cell_type": "code",
   "execution_count": 50,
   "id": "378f49fc-30e3-43a4-a32f-7717e65eab3f",
   "metadata": {},
   "outputs": [
    {
     "name": "stdout",
     "output_type": "stream",
     "text": [
      "0\n",
      "1\n",
      "2\n",
      "3\n",
      "4\n"
     ]
    }
   ],
   "source": [
    "for i in range(10):\n",
    "    if i == 5:\n",
    "        break\n",
    "    print(i)\n",
    "\n",
    "# Use cases:\n",
    "# Exiting a loop when a condition is met\n",
    "# Skipping unnecessary iterations\n"
   ]
  },
  {
   "cell_type": "markdown",
   "id": "69cce91a-178d-47e0-b3c3-bc9c73267f40",
   "metadata": {},
   "source": [
    "These are the main types of loops in Python, each with their own use cases and examples. Understanding when to use each type of loop is crucial for writing efficient and effective code."
   ]
  },
  {
   "cell_type": "code",
   "execution_count": null,
   "id": "79943913-bcb8-4666-a161-b3060dfec3d5",
   "metadata": {},
   "outputs": [],
   "source": []
  }
 ],
 "metadata": {
  "kernelspec": {
   "display_name": "Python 3 (ipykernel)",
   "language": "python",
   "name": "python3"
  },
  "language_info": {
   "codemirror_mode": {
    "name": "ipython",
    "version": 3
   },
   "file_extension": ".py",
   "mimetype": "text/x-python",
   "name": "python",
   "nbconvert_exporter": "python",
   "pygments_lexer": "ipython3",
   "version": "3.10.8"
  }
 },
 "nbformat": 4,
 "nbformat_minor": 5
}
